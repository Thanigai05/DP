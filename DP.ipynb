{
 "cells": [
  {
   "cell_type": "markdown",
   "id": "0114bdf4-c32b-47c2-abaa-c4576429261b",
   "metadata": {},
   "source": [
    "# CARGO LOADING(PROBLEM NO:6)"
   ]
  },
  {
   "cell_type": "markdown",
   "id": "ed54114c-e828-48e2-a2cd-4aee33d1522b",
   "metadata": {},
   "source": [
    "A logistic company has to load a cargo out of four items whose details are shown in the table below. The maximum weight of the cargo is 7 tons. Find the optimal cargo loading using dynamic programming method such that the total return is maximized.\n",
    "- Items             :[  1        2         3         4]\n",
    "- Weight(in tons)   :[  2        1         4         3]\n",
    "- Return(in rupees) :[1000     400     2100      1400]"
   ]
  },
  {
   "cell_type": "code",
   "execution_count": 7,
   "id": "2ec7b88f-06bf-486c-b5f8-59d371148a16",
   "metadata": {},
   "outputs": [
    {
     "name": "stdout",
     "output_type": "stream",
     "text": [
      "\n",
      "Maximum Revenue: 3500\n",
      "\n",
      "Number of Alternate Optimal Solutions: 2\n",
      "\n",
      "Alternate Optimal Solutions (Stage-wise Breakdown):\n",
      "Solution 1:\n",
      "  Stage 1: Item 1, Units Taken = 0, Weight Used = 0\n",
      "  Stage 2: Item 2, Units Taken = 0, Weight Used = 0\n",
      "  Stage 3: Item 3, Units Taken = 1, Weight Used = 4\n",
      "  Stage 4: Item 4, Units Taken = 1, Weight Used = 3\n",
      "  Total Weight Used = 7 (Max Capacity = 7)\n",
      "\n",
      "Solution 2:\n",
      "  Stage 1: Item 1, Units Taken = 1, Weight Used = 2\n",
      "  Stage 2: Item 2, Units Taken = 1, Weight Used = 1\n",
      "  Stage 3: Item 3, Units Taken = 1, Weight Used = 4\n",
      "  Stage 4: Item 4, Units Taken = 0, Weight Used = 0\n",
      "  Total Weight Used = 7 (Max Capacity = 7)\n",
      "\n"
     ]
    }
   ],
   "source": [
    "def cargo_loading(weights, revenues, max_capacity):\n",
    "    n = len(weights)  # Number of items\n",
    "    W = max_capacity  # Maximum capacity of the vessel\n",
    "\n",
    "    # Step 1: Create and initialize the DP table\n",
    "    dp = [[0 for _ in range(W + 1)] for _ in range(n + 1)]\n",
    "\n",
    "    # Step 2: Fill the DP table\n",
    "    for i in range(n - 1, -1, -1):  # Reverse iterate over items\n",
    "        for x in range(W + 1):  # Iterate over all capacities\n",
    "            dp[i][x] = dp[i + 1][x]  # Case 1: Don't include item\n",
    "            for m in range(x // weights[i] + 1):  # Case 2: Include m units of item i\n",
    "                if x >= m * weights[i]:\n",
    "                    dp[i][x] = max(dp[i][x], m * revenues[i] + dp[i + 1][x - m * weights[i]])\n",
    "\n",
    "    # Step 3: Handle alternate optimal solutions\n",
    "    alternate_solutions = []\n",
    "    def find_alternates(i, x, current_selection):\n",
    "        if i == n:\n",
    "            alternate_solutions.append(current_selection[:])\n",
    "            return\n",
    "        for m in range(x // weights[i] + 1):\n",
    "            if x >= m * weights[i] and dp[i][x] == m * revenues[i] + dp[i + 1][x - m * weights[i]]:\n",
    "                current_selection[i] = m\n",
    "                find_alternates(i + 1, x - m * weights[i], current_selection)\n",
    "                current_selection[i] = 0\n",
    "\n",
    "    find_alternates(0, W, [0] * n)\n",
    "\n",
    "    # Step 4: Traceback to find and display selected items\n",
    "    print(\"\\nMaximum Revenue:\", dp[0][W])\n",
    "\n",
    "    print(f\"\\nNumber of Alternate Optimal Solutions: {len(alternate_solutions)}\")\n",
    "    print(\"\\nAlternate Optimal Solutions (Stage-wise Breakdown):\")\n",
    "    for idx, solution in enumerate(alternate_solutions, 1):\n",
    "        print(f\"Solution {idx}:\")\n",
    "        total_weight = 0\n",
    "        for stage, units in enumerate(solution, 1):\n",
    "            stage_weight = units * weights[stage - 1]\n",
    "            total_weight += stage_weight\n",
    "            print(f\"  Stage {stage}: Item {stage}, Units Taken = {units}, Weight Used = {stage_weight}\")\n",
    "        print(f\"  Total Weight Used = {total_weight} (Max Capacity = {max_capacity})\")\n",
    "        print()\n",
    "\n",
    "    return dp[0][W], alternate_solutions\n",
    "\n",
    "\n",
    "# Example inputs\n",
    "weights = [2, 1, 4, 3]  # Weights of items\n",
    "revenues = [1000, 400, 2100, 1400]  # Revenues of items\n",
    "max_capacity = 7  # Maximum capacity\n",
    "\n",
    "# Execute the function\n",
    "max_revenue, solutions = cargo_loading(weights, revenues, max_capacity)\n"
   ]
  },
  {
   "cell_type": "code",
   "execution_count": null,
   "id": "5bbdd670-72b5-40a3-bf0c-4914d6d546af",
   "metadata": {},
   "outputs": [],
   "source": []
  },
  {
   "cell_type": "markdown",
   "id": "17e7550e-0853-49e0-9bd5-5a96150b1afd",
   "metadata": {},
   "source": [
    "# LPP BY DP(PROBLEM NO:5)"
   ]
  },
  {
   "cell_type": "markdown",
   "id": "a5a36d97-bf39-4f62-a24c-0b19e3f668a9",
   "metadata": {},
   "source": [
    "Maximize Z = 3x1 + 5x2\n",
    "\n",
    "Subject to:\n",
    "\n",
    "    x1≤4 \n",
    "    \n",
    "    x2≤6\n",
    "    \n",
    "    3x1+2x2≤18 , X1>0 , X2>0."
   ]
  },
  {
   "cell_type": "code",
   "execution_count": 9,
   "id": "7886456c-e079-4326-9395-2cc5c5fd9471",
   "metadata": {},
   "outputs": [
    {
     "name": "stdout",
     "output_type": "stream",
     "text": [
      "Maximum Z: 36\n",
      "Optimal values (x1, x2): (2, 6)\n"
     ]
    }
   ],
   "source": [
    "def lpp_dynamic_programming(max_x1, max_x2, max_constraint):\n",
    "    # Initialize the DP table\n",
    "    dp = [[-float('inf')] * (max_x2 + 1) for _ in range(max_x1 + 1)]\n",
    "    \n",
    "    # To store the optimal solution (x1, x2) at maximum Z\n",
    "    optimal_values = None\n",
    "    optimal_Z = -float('inf')\n",
    "    \n",
    "    # Iterate over all possible values of x1 and x2\n",
    "    for x1 in range(max_x1 + 1):\n",
    "        for x2 in range(max_x2 + 1):\n",
    "            # Check if the point satisfies the constraints\n",
    "            if x1 <= 4 and x2 <= 6 and 3 * x1 + 2 * x2 <= 18:\n",
    "                # Calculate the objective function value\n",
    "                Z = 3 * x1 + 5 * x2\n",
    "                \n",
    "                # Update DP table with the best value\n",
    "                dp[x1][x2] = max(dp[x1][x2], Z)\n",
    "                \n",
    "                # Track the optimal solution\n",
    "                if dp[x1][x2] > optimal_Z:\n",
    "                    optimal_Z = dp[x1][x2]\n",
    "                    optimal_values = (x1, x2)\n",
    "    \n",
    "    # Final output: Maximum Z and the optimal values for x1 and x2\n",
    "    return optimal_Z, optimal_values\n",
    "\n",
    "# Define the maximum values for x1 and x2 (boundaries of the search space)\n",
    "max_x1 = 4\n",
    "max_x2 = 6\n",
    "max_constraint = 18\n",
    "\n",
    "# Call the function to solve the LPP\n",
    "Z, optimal_values = lpp_dynamic_programming(max_x1, max_x2, max_constraint)\n",
    "\n",
    "# Print the result\n",
    "print(\"Maximum Z:\", Z)\n",
    "print(\"Optimal values (x1, x2):\", optimal_values)\n"
   ]
  }
 ],
 "metadata": {
  "kernelspec": {
   "display_name": "Python 3 (ipykernel)",
   "language": "python",
   "name": "python3"
  },
  "language_info": {
   "codemirror_mode": {
    "name": "ipython",
    "version": 3
   },
   "file_extension": ".py",
   "mimetype": "text/x-python",
   "name": "python",
   "nbconvert_exporter": "python",
   "pygments_lexer": "ipython3",
   "version": "3.12.3"
  }
 },
 "nbformat": 4,
 "nbformat_minor": 5
}
